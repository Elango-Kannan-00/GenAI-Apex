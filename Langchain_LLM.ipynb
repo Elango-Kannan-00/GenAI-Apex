{
  "nbformat": 4,
  "nbformat_minor": 0,
  "metadata": {
    "colab": {
      "provenance": [],
      "authorship_tag": "ABX9TyPK5G6kQZVg2itKUdD/U8NJ",
      "include_colab_link": true
    },
    "kernelspec": {
      "name": "python3",
      "display_name": "Python 3"
    },
    "language_info": {
      "name": "python"
    }
  },
  "cells": [
    {
      "cell_type": "markdown",
      "metadata": {
        "id": "view-in-github",
        "colab_type": "text"
      },
      "source": [
        "<a href=\"https://colab.research.google.com/github/Elango-Kannan-00/GenAI-Apex/blob/main/Langchain_LLM.ipynb\" target=\"_parent\"><img src=\"https://colab.research.google.com/assets/colab-badge.svg\" alt=\"Open In Colab\"/></a>"
      ]
    },
    {
      "cell_type": "code",
      "execution_count": 33,
      "metadata": {
        "id": "feSiA5NfFu7l"
      },
      "outputs": [],
      "source": [
        "from langchain.prompts import PromptTemplate"
      ]
    },
    {
      "cell_type": "code",
      "source": [
        "%pip install --upgrade --quiet langchain-google-genai"
      ],
      "metadata": {
        "id": "6dnjmxY0PxRg"
      },
      "execution_count": 34,
      "outputs": []
    },
    {
      "cell_type": "code",
      "source": [
        "from langchain_google_genai import GoogleGenerativeAI"
      ],
      "metadata": {
        "id": "IBpbhf1FQY8D"
      },
      "execution_count": 35,
      "outputs": []
    },
    {
      "cell_type": "code",
      "source": [
        "from google.colab import userdata\n",
        "key=userdata.get('Google_Api_Key')"
      ],
      "metadata": {
        "id": "5XOyJet1Ql3u"
      },
      "execution_count": 36,
      "outputs": []
    },
    {
      "cell_type": "code",
      "source": [
        "model=GoogleGenerativeAI(model=\"gemini-pro\",google_api_key=key)"
      ],
      "metadata": {
        "id": "y_i8Z3KQRBsE"
      },
      "execution_count": 37,
      "outputs": []
    },
    {
      "cell_type": "code",
      "source": [
        "demo_template=\"\"\" you are expert in {programming}.{query} \"\"\""
      ],
      "metadata": {
        "id": "un_VvwmJRthl"
      },
      "execution_count": 38,
      "outputs": []
    },
    {
      "cell_type": "code",
      "source": [
        "prompt=PromptTemplate(input_variables=[\"programming\", \"query\"],template=demo_template )"
      ],
      "metadata": {
        "id": "JG64V9yrUMlH"
      },
      "execution_count": 39,
      "outputs": []
    },
    {
      "cell_type": "code",
      "source": [
        "prompt_text=prompt.format(programming=\"c++\",query=\"write a function to display the list of even numbers\")"
      ],
      "metadata": {
        "id": "l7uHNBGoU-AB"
      },
      "execution_count": 43,
      "outputs": []
    },
    {
      "cell_type": "code",
      "source": [
        "res=model.invoke(prompt_text)"
      ],
      "metadata": {
        "id": "_9ghVn0lWX68"
      },
      "execution_count": 44,
      "outputs": []
    },
    {
      "cell_type": "code",
      "source": [
        "print(res)"
      ],
      "metadata": {
        "colab": {
          "base_uri": "https://localhost:8080/"
        },
        "id": "53yjSkl5Wx5G",
        "outputId": "7086a4d8-c12f-4cc7-938b-00c6ecd2ff82"
      },
      "execution_count": 45,
      "outputs": [
        {
          "output_type": "stream",
          "name": "stdout",
          "text": [
            "```cpp\n",
            "#include <iostream>\n",
            "#include <vector>\n",
            "\n",
            "using namespace std;\n",
            "\n",
            "// Function to display the list of even numbers\n",
            "void displayEvenNumbers(vector<int> numbers) {\n",
            "  // Iterate over the vector\n",
            "  for (int number : numbers) {\n",
            "    // Check if the number is even\n",
            "    if (number % 2 == 0) {\n",
            "      // Print the number\n",
            "      cout << number << \" \";\n",
            "    }\n",
            "  }\n",
            "  cout << endl;\n",
            "}\n",
            "\n",
            "int main() {\n",
            "  // Create a vector of numbers\n",
            "  vector<int> numbers = {1, 2, 3, 4, 5, 6, 7, 8, 9, 10};\n",
            "\n",
            "  // Display the list of even numbers\n",
            "  displayEvenNumbers(numbers);\n",
            "\n",
            "  return 0;\n",
            "}\n",
            "```\n"
          ]
        }
      ]
    },
    {
      "cell_type": "code",
      "source": [],
      "metadata": {
        "id": "V3Yk-IFTWy_O"
      },
      "execution_count": null,
      "outputs": []
    }
  ]
}