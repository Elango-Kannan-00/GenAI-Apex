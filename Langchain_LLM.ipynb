{
  "nbformat": 4,
  "nbformat_minor": 0,
  "metadata": {
    "colab": {
      "provenance": [],
      "authorship_tag": "ABX9TyN+j+7Z1PNkY4mErxVdofpB",
      "include_colab_link": true
    },
    "kernelspec": {
      "name": "python3",
      "display_name": "Python 3"
    },
    "language_info": {
      "name": "python"
    }
  },
  "cells": [
    {
      "cell_type": "markdown",
      "metadata": {
        "id": "view-in-github",
        "colab_type": "text"
      },
      "source": [
        "<a href=\"https://colab.research.google.com/github/Elango-Kannan-00/GenAI-Apex/blob/main/Langchain_LLM.ipynb\" target=\"_parent\"><img src=\"https://colab.research.google.com/assets/colab-badge.svg\" alt=\"Open In Colab\"/></a>"
      ]
    },
    {
      "cell_type": "code",
      "execution_count": null,
      "metadata": {
        "id": "feSiA5NfFu7l"
      },
      "outputs": [],
      "source": [
        "from langchain.prompts import PromptTemplate"
      ]
    },
    {
      "cell_type": "code",
      "source": [
        "%pip install --upgrade --quiet langchain-google-genai"
      ],
      "metadata": {
        "id": "6dnjmxY0PxRg"
      },
      "execution_count": null,
      "outputs": []
    },
    {
      "cell_type": "code",
      "source": [
        "from langchain_google_genai import GoogleGenerativeAI"
      ],
      "metadata": {
        "id": "IBpbhf1FQY8D"
      },
      "execution_count": null,
      "outputs": []
    },
    {
      "cell_type": "code",
      "source": [
        "from google.colab import userdata\n",
        "key=userdata.get('Google_Api_Key')"
      ],
      "metadata": {
        "id": "5XOyJet1Ql3u"
      },
      "execution_count": null,
      "outputs": []
    },
    {
      "cell_type": "code",
      "source": [
        "model=GoogleGenerativeAI(model=\"gemini-pro\",google_api_key=key)"
      ],
      "metadata": {
        "id": "y_i8Z3KQRBsE"
      },
      "execution_count": null,
      "outputs": []
    },
    {
      "cell_type": "code",
      "source": [
        "demo_template=\"\"\" you are expert in {programming}.{query} \"\"\""
      ],
      "metadata": {
        "id": "un_VvwmJRthl"
      },
      "execution_count": null,
      "outputs": []
    },
    {
      "cell_type": "code",
      "source": [
        "prompt=PromptTemplate(input_variables=[\"programming\", \"query\"],template=demo_template )"
      ],
      "metadata": {
        "id": "JG64V9yrUMlH"
      },
      "execution_count": null,
      "outputs": []
    },
    {
      "cell_type": "code",
      "source": [
        "prompt_text=prompt.format(programming=\"c++\",query=\"write a function to display the list of even numbers\")"
      ],
      "metadata": {
        "id": "l7uHNBGoU-AB"
      },
      "execution_count": null,
      "outputs": []
    },
    {
      "cell_type": "code",
      "source": [
        "res=model.invoke(prompt_text)"
      ],
      "metadata": {
        "id": "_9ghVn0lWX68"
      },
      "execution_count": null,
      "outputs": []
    },
    {
      "cell_type": "code",
      "source": [
        "print(res)"
      ],
      "metadata": {
        "colab": {
          "base_uri": "https://localhost:8080/"
        },
        "id": "53yjSkl5Wx5G",
        "outputId": "7086a4d8-c12f-4cc7-938b-00c6ecd2ff82"
      },
      "execution_count": null,
      "outputs": [
        {
          "output_type": "stream",
          "name": "stdout",
          "text": [
            "```cpp\n",
            "#include <iostream>\n",
            "#include <vector>\n",
            "\n",
            "using namespace std;\n",
            "\n",
            "// Function to display the list of even numbers\n",
            "void displayEvenNumbers(vector<int> numbers) {\n",
            "  // Iterate over the vector\n",
            "  for (int number : numbers) {\n",
            "    // Check if the number is even\n",
            "    if (number % 2 == 0) {\n",
            "      // Print the number\n",
            "      cout << number << \" \";\n",
            "    }\n",
            "  }\n",
            "  cout << endl;\n",
            "}\n",
            "\n",
            "int main() {\n",
            "  // Create a vector of numbers\n",
            "  vector<int> numbers = {1, 2, 3, 4, 5, 6, 7, 8, 9, 10};\n",
            "\n",
            "  // Display the list of even numbers\n",
            "  displayEvenNumbers(numbers);\n",
            "\n",
            "  return 0;\n",
            "}\n",
            "```\n"
          ]
        }
      ]
    },
    {
      "cell_type": "code",
      "source": [
        "from langchain.chains import LLMChain"
      ],
      "metadata": {
        "id": "V3Yk-IFTWy_O"
      },
      "execution_count": null,
      "outputs": []
    },
    {
      "cell_type": "code",
      "source": [
        "llm_chain=LLMChain(prompt=prompt,llm=model)"
      ],
      "metadata": {
        "colab": {
          "base_uri": "https://localhost:8080/"
        },
        "id": "00rfdBngls6i",
        "outputId": "088706c3-71f2-4cb6-a78f-c425aa159abc"
      },
      "execution_count": null,
      "outputs": [
        {
          "output_type": "stream",
          "name": "stderr",
          "text": [
            "<ipython-input-47-8ab1d06046c7>:1: LangChainDeprecationWarning: The class `LLMChain` was deprecated in LangChain 0.1.17 and will be removed in 1.0. Use :meth:`~RunnableSequence, e.g., `prompt | llm`` instead.\n",
            "  llm_chain=LLMChain(prompt=prompt,llm=model)\n"
          ]
        }
      ]
    },
    {
      "cell_type": "code",
      "source": [
        "result=llm_chain.run({\"programming\":\"python\",\"query\":\"write a program for triangle pattern numbers\"})"
      ],
      "metadata": {
        "id": "KTTx2nbLlxJe"
      },
      "execution_count": null,
      "outputs": []
    },
    {
      "cell_type": "code",
      "source": [
        "print(result)"
      ],
      "metadata": {
        "colab": {
          "base_uri": "https://localhost:8080/"
        },
        "id": "6MQbJQeMmLR3",
        "outputId": "90a12d4e-5766-4685-b641-a6d9ee0ff68a"
      },
      "execution_count": null,
      "outputs": [
        {
          "output_type": "stream",
          "name": "stdout",
          "text": [
            "```\n",
            "# This program prints a triangle pattern of numbers.\n",
            "\n",
            "# Get the number of rows from the user.\n",
            "num_rows = int(input(\"Enter the number of rows: \"))\n",
            "\n",
            "# Create a list of lists to store the triangle pattern.\n",
            "triangle = []\n",
            "\n",
            "# Iterate over the rows.\n",
            "for i in range(num_rows):\n",
            "    # Create a list to store the numbers in the current row.\n",
            "    row = []\n",
            "    \n",
            "    # Iterate over the columns.\n",
            "    for j in range(i + 1):\n",
            "        # Add the number to the current row.\n",
            "        row.append(j + 1)\n",
            "    \n",
            "    # Add the current row to the triangle.\n",
            "    triangle.append(row)\n",
            "\n",
            "# Print the triangle pattern.\n",
            "for row in triangle:\n",
            "    for number in row:\n",
            "        print(number, end=\" \")\n",
            "    print()\n",
            "```\n"
          ]
        }
      ]
    },
    {
      "cell_type": "code",
      "source": [],
      "metadata": {
        "id": "MD9XtvqimcKf"
      },
      "execution_count": null,
      "outputs": []
    }
  ]
}